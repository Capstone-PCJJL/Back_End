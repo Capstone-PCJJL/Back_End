{
 "cells": [
  {
   "cell_type": "code",
   "execution_count": 4,
   "metadata": {},
   "outputs": [
    {
     "name": "stdout",
     "output_type": "stream",
     "text": [
      "/Users/jojongai/Desktop/Capstone/Back_End\n"
     ]
    },
    {
     "ename": "ModuleNotFoundError",
     "evalue": "No module named 'sqlconnection'",
     "output_type": "error",
     "traceback": [
      "\u001b[31m---------------------------------------------------------------------------\u001b[39m",
      "\u001b[31mModuleNotFoundError\u001b[39m                       Traceback (most recent call last)",
      "\u001b[36mCell\u001b[39m\u001b[36m \u001b[39m\u001b[32mIn[4]\u001b[39m\u001b[32m, line 12\u001b[39m\n\u001b[32m      8\u001b[39m sys.path = project_root\n\u001b[32m     10\u001b[39m \u001b[38;5;28mprint\u001b[39m(project_root)\n\u001b[32m---> \u001b[39m\u001b[32m12\u001b[39m \u001b[38;5;28;01mfrom\u001b[39;00m\u001b[38;5;250m \u001b[39m\u001b[34;01msqlconnection\u001b[39;00m\u001b[38;5;250m \u001b[39m\u001b[38;5;28;01mimport\u001b[39;00m create_db_engine\n\u001b[32m     14\u001b[39m connection = create_db_engine()\n\u001b[32m     16\u001b[39m \u001b[33;03m'''df_test = pd.DataFrame({\u001b[39;00m\n\u001b[32m     17\u001b[39m \u001b[33;03m    'id': [1, 2, 3],\u001b[39;00m\n\u001b[32m     18\u001b[39m \u001b[33;03m    'name': ['Alice', 'Bob', 'Charlie'],\u001b[39;00m\n\u001b[32m     19\u001b[39m \u001b[33;03m    'score': [85, 90, 78]\u001b[39;00m\n\u001b[32m     20\u001b[39m \n\u001b[32m     21\u001b[39m \u001b[33;03mdf_test.to_sql('test_table', con=connection, index=False, if_exists='replace')'''\u001b[39;00m\n",
      "\u001b[31mModuleNotFoundError\u001b[39m: No module named 'sqlconnection'"
     ]
    }
   ],
   "source": [
    "import os\n",
    "import sys\n",
    "import pandas as pd \n",
    "\n",
    "current_dir = os.getcwd()\n",
    "project_root = os.path.abspath(os.path.join(current_dir, \"..\"))\n",
    "\n",
    "sys.path = project_root\n",
    "\n",
    "from sqlconnection import create_db_engine\n",
    "\n",
    "connection = create_db_engine()\n",
    "\n",
    "'''df_test = pd.DataFrame({\n",
    "    'id': [1, 2, 3],\n",
    "    'name': ['Alice', 'Bob', 'Charlie'],\n",
    "    'score': [85, 90, 78]\n",
    "\n",
    "df_test.to_sql('test_table', con=connection, index=False, if_exists='replace')'''\n",
    "\n",
    "print(\"✅ DataFrame pushed to MySQL table: test_table\")"
   ]
  },
  {
   "cell_type": "markdown",
   "metadata": {},
   "source": []
  }
 ],
 "metadata": {
  "kernelspec": {
   "display_name": "venv",
   "language": "python",
   "name": "python3"
  },
  "language_info": {
   "codemirror_mode": {
    "name": "ipython",
    "version": 3
   },
   "file_extension": ".py",
   "mimetype": "text/x-python",
   "name": "python",
   "nbconvert_exporter": "python",
   "pygments_lexer": "ipython3",
   "version": "3.11.5"
  },
  "orig_nbformat": 4
 },
 "nbformat": 4,
 "nbformat_minor": 2
}
